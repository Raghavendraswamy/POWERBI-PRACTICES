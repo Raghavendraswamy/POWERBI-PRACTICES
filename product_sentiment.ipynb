{
  "nbformat": 4,
  "nbformat_minor": 0,
  "metadata": {
    "colab": {
      "provenance": []
    },
    "kernelspec": {
      "name": "python3",
      "display_name": "Python 3"
    },
    "language_info": {
      "name": "python"
    }
  },
  "cells": [
    {
      "cell_type": "code",
      "execution_count": 1,
      "metadata": {
        "id": "QowOiSgGh4Fh"
      },
      "outputs": [],
      "source": [
        "import pandas as pd\n",
        "from sklearn.model_selection import train_test_split\n",
        "from sklearn.feature_extraction.text import CountVectorizer\n",
        "from sklearn.naive_bayes import MultinomialNB\n",
        "from sklearn.metrics import accuracy_score, classification_report\n"
      ]
    },
    {
      "cell_type": "code",
      "source": [
        "data = {\n",
        "    'review': [\n",
        "        \"This phone is amazing, battery lasts long\",\n",
        "        \"Worst product ever, waste of money\",\n",
        "        \"Excellent sound quality and great design\",\n",
        "        \"Terrible customer service and bad quality\",\n",
        "        \"I love this laptop, super fast and smooth\",\n",
        "        \"The product stopped working after 2 days\",\n",
        "        \"Really good camera and easy to use\",\n",
        "        \"Very disappointed, not worth the price\"\n",
        "    ],\n",
        "    'sentiment': [\n",
        "        \"positive\", \"negative\", \"positive\", \"negative\",\n",
        "        \"positive\", \"negative\", \"positive\", \"negative\"\n",
        "    ]\n",
        "}\n",
        "\n",
        "df = pd.DataFrame(data)\n",
        "print(df)\n"
      ],
      "metadata": {
        "colab": {
          "base_uri": "https://localhost:8080/"
        },
        "id": "JNqrisJoh9ko",
        "outputId": "00061b3a-1e0d-4130-c275-7c162f2b0569"
      },
      "execution_count": 2,
      "outputs": [
        {
          "output_type": "stream",
          "name": "stdout",
          "text": [
            "                                      review sentiment\n",
            "0  This phone is amazing, battery lasts long  positive\n",
            "1         Worst product ever, waste of money  negative\n",
            "2   Excellent sound quality and great design  positive\n",
            "3  Terrible customer service and bad quality  negative\n",
            "4  I love this laptop, super fast and smooth  positive\n",
            "5   The product stopped working after 2 days  negative\n",
            "6         Really good camera and easy to use  positive\n",
            "7     Very disappointed, not worth the price  negative\n"
          ]
        }
      ]
    },
    {
      "cell_type": "code",
      "source": [
        "X = df['review']\n",
        "y = df['sentiment']\n",
        "\n",
        "vectorizer = CountVectorizer(stop_words='english')\n",
        "X_vectorized = vectorizer.fit_transform(X)\n",
        "\n",
        "# Split into train/test\n",
        "X_train, X_test, y_train, y_test = train_test_split(\n",
        "    X_vectorized, y, test_size=0.25, random_state=42\n",
        ")\n"
      ],
      "metadata": {
        "id": "JjRmtWyxiDrh"
      },
      "execution_count": 3,
      "outputs": []
    },
    {
      "cell_type": "code",
      "source": [
        "model = MultinomialNB()\n",
        "model.fit(X_train, y_train)\n",
        "\n",
        "# Predict\n",
        "y_pred = model.predict(X_test)\n"
      ],
      "metadata": {
        "id": "CUg-5ZaTiIZS"
      },
      "execution_count": 4,
      "outputs": []
    },
    {
      "cell_type": "code",
      "source": [
        "new_reviews = [\n",
        "    \"Battery backup is great and phone works fast\",\n",
        "    \"Worst experience ever, it broke in a week\",\n",
        "    \"Really happy with the purchase\",\n",
        "    \"Not good, very low quality\"\n",
        "]\n",
        "\n",
        "new_vectorized = vectorizer.transform(new_reviews)\n",
        "predictions = model.predict(new_vectorized)\n",
        "\n",
        "for review, sentiment in zip(new_reviews, predictions):\n",
        "    print(f\"Review: {review} --> Sentiment: {sentiment}\")\n"
      ],
      "metadata": {
        "colab": {
          "base_uri": "https://localhost:8080/"
        },
        "id": "zcRycjnFiLAr",
        "outputId": "945848f7-ee82-4019-80b4-b91aa54bb0dd"
      },
      "execution_count": 5,
      "outputs": [
        {
          "output_type": "stream",
          "name": "stdout",
          "text": [
            "Review: Battery backup is great and phone works fast --> Sentiment: positive\n",
            "Review: Worst experience ever, it broke in a week --> Sentiment: positive\n",
            "Review: Really happy with the purchase --> Sentiment: positive\n",
            "Review: Not good, very low quality --> Sentiment: positive\n"
          ]
        }
      ]
    },
    {
      "cell_type": "code",
      "source": [
        "# using if-idf"
      ],
      "metadata": {
        "id": "yRFpyWVgiOet"
      },
      "execution_count": 6,
      "outputs": []
    },
    {
      "cell_type": "code",
      "source": [
        "import pandas as pd\n",
        "from sklearn.model_selection import train_test_split\n",
        "from sklearn.feature_extraction.text import TfidfVectorizer\n",
        "from sklearn.linear_model import LogisticRegression\n",
        "from sklearn.metrics import accuracy_score, classification_report\n"
      ],
      "metadata": {
        "id": "H_jL55G2iY7c"
      },
      "execution_count": 7,
      "outputs": []
    },
    {
      "cell_type": "code",
      "source": [
        "data = {\n",
        "    'review': [\n",
        "        \"This phone is amazing, battery lasts long\",\n",
        "        \"Worst product ever, waste of money\",\n",
        "        \"Excellent sound quality and great design\",\n",
        "        \"Terrible customer service and bad quality\",\n",
        "        \"I love this laptop, super fast and smooth\",\n",
        "        \"The product stopped working after 2 days\",\n",
        "        \"Really good camera and easy to use\",\n",
        "        \"Very disappointed, not worth the price\"\n",
        "    ],\n",
        "    'sentiment': [\n",
        "        \"positive\", \"negative\", \"positive\", \"negative\",\n",
        "        \"positive\", \"negative\", \"positive\", \"negative\"\n",
        "    ]\n",
        "}\n",
        "\n",
        "df = pd.DataFrame(data)\n"
      ],
      "metadata": {
        "id": "mmSQEwD-iZbq"
      },
      "execution_count": 8,
      "outputs": []
    },
    {
      "cell_type": "code",
      "source": [],
      "metadata": {
        "id": "lB7SoTK1ic99"
      },
      "execution_count": null,
      "outputs": []
    },
    {
      "cell_type": "markdown",
      "source": [
        "TF-IDF Vectorization\n",
        "\n",
        "TF (Term Frequency): How often a word appears in a document.\n",
        "\n",
        "IDF (Inverse Document Frequency): How rare a word is across all documents.\n",
        "\n",
        "Together: Highlights important unique words and reduces weight of common words."
      ],
      "metadata": {
        "id": "MVWqNlfNih5f"
      }
    },
    {
      "cell_type": "code",
      "source": [
        "X = df['review']\n",
        "y = df['sentiment']\n",
        "\n",
        "vectorizer = TfidfVectorizer(stop_words='english')\n",
        "X_tfidf = vectorizer.fit_transform(X)\n",
        "\n",
        "# Split into train/test\n",
        "X_train, X_test, y_train, y_test = train_test_split(\n",
        "    X_tfidf, y, test_size=0.25, random_state=42\n",
        ")\n"
      ],
      "metadata": {
        "id": "NyMipX2Kiijp"
      },
      "execution_count": 9,
      "outputs": []
    },
    {
      "cell_type": "code",
      "source": [
        "model = LogisticRegression()\n",
        "model.fit(X_train, y_train)\n",
        "\n",
        "# Predictions\n",
        "y_pred = model.predict(X_test)\n"
      ],
      "metadata": {
        "id": "6iFckmeCikZm"
      },
      "execution_count": 10,
      "outputs": []
    },
    {
      "cell_type": "code",
      "source": [
        "new_reviews = [\n",
        "    \"Battery backup is great and phone works fast\",\n",
        "    \"Worst experience ever, it broke in a week\",\n",
        "    \"Really happy with the purchase\",\n",
        "    \"Not good, very low quality\"\n",
        "]\n",
        "\n",
        "new_tfidf = vectorizer.transform(new_reviews)\n",
        "predictions = model.predict(new_tfidf)\n",
        "\n",
        "for review, sentiment in zip(new_reviews, predictions):\n",
        "    print(f\"Review: {review} --> Sentiment: {sentiment}\")\n"
      ],
      "metadata": {
        "colab": {
          "base_uri": "https://localhost:8080/"
        },
        "id": "1qy-sCZeinf9",
        "outputId": "4801aca9-0b2c-45ff-cb0a-99b7fa776f16"
      },
      "execution_count": 11,
      "outputs": [
        {
          "output_type": "stream",
          "name": "stdout",
          "text": [
            "Review: Battery backup is great and phone works fast --> Sentiment: positive\n",
            "Review: Worst experience ever, it broke in a week --> Sentiment: positive\n",
            "Review: Really happy with the purchase --> Sentiment: positive\n",
            "Review: Not good, very low quality --> Sentiment: positive\n"
          ]
        }
      ]
    },
    {
      "cell_type": "code",
      "source": [],
      "metadata": {
        "id": "dlf5Mt0biqQ6"
      },
      "execution_count": null,
      "outputs": []
    }
  ]
}